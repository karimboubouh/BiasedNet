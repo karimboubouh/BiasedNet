{
 "cells": [
  {
   "cell_type": "markdown",
   "metadata": {},
   "source": [
    "# P2P personalized learning under different data distributions\n",
    "---"
   ]
  },
  {
   "cell_type": "markdown",
   "metadata": {},
   "source": [
    "### Load libraries"
   ]
  },
  {
   "cell_type": "code",
   "execution_count": 1,
   "metadata": {},
   "outputs": [],
   "source": [
    "import sys\n",
    "sys.path.append('..')\n",
    "\n",
    "import time\n",
    "import torch\n",
    "import pout\n",
    "import numpy as np\n",
    "\n",
    "from src.datasets import get_dataset\n",
    "from src.models import build_models\n",
    "from src.network import random_graph, network_graph\n",
    "from src.helpers import Map\n",
    "from src.utils import load_conf, exp_details, set_device, log\n",
    "from src.plots import plot_train_history\n",
    "\n",
    "%matplotlib inline\n",
    "%config InlineBackend.figure_format = 'retina'  # 'svg'"
   ]
  },
  {
   "cell_type": "markdown",
   "metadata": {},
   "source": [
    "### Initialize configuration "
   ]
  },
  {
   "cell_type": "code",
   "execution_count": 2,
   "metadata": {},
   "outputs": [],
   "source": [
    "torch.set_num_threads(1)\n",
    "np.random.seed(0)\n",
    "start_time = time.time()"
   ]
  },
  {
   "cell_type": "code",
   "execution_count": 3,
   "metadata": {},
   "outputs": [],
   "source": [
    "args = load_conf()\n",
    "args.rounds = 100\n",
    "args.epochs = 10"
   ]
  },
  {
   "cell_type": "code",
   "execution_count": 4,
   "metadata": {},
   "outputs": [
    {
     "name": "stdout",
     "output_type": "stream",
     "text": [
      "Using CPU\n"
     ]
    }
   ],
   "source": [
    "device = set_device(args)"
   ]
  },
  {
   "cell_type": "code",
   "execution_count": 5,
   "metadata": {},
   "outputs": [
    {
     "name": "stdout",
     "output_type": "stream",
     "text": [
      "\n",
      "Experimental details:\n",
      "    Model     : mlp\n",
      "    Optimizer : adam\n",
      "    Learning  : 0.001\n",
      "    Rounds   : 100\n",
      "\n",
      "    Collaborative learning parameters:\n",
      "    IID\n",
      "    Number of peers    : 10\n",
      "    Local Batch size   : None\n",
      "    Epochs             : 10\n",
      "\n"
     ]
    }
   ],
   "source": [
    "exp_details(args)"
   ]
  },
  {
   "cell_type": "markdown",
   "metadata": {},
   "source": [
    "### Load and devide dataset "
   ]
  },
  {
   "cell_type": "code",
   "execution_count": 6,
   "metadata": {},
   "outputs": [],
   "source": [
    "train_ds, test_ds, user_groups = get_dataset(args)"
   ]
  },
  {
   "cell_type": "code",
   "execution_count": 7,
   "metadata": {},
   "outputs": [
    {
     "data": {
      "text/plain": [
       "[6000, 6000, 6000, 6000, 6000, 6000, 6000, 6000, 6000, 6000]"
      ]
     },
     "execution_count": 7,
     "metadata": {},
     "output_type": "execute_result"
    }
   ],
   "source": [
    "# print size of train data for each user \n",
    "[len(user_data) for user_data in user_groups.values()]"
   ]
  },
  {
   "cell_type": "markdown",
   "metadata": {},
   "source": [
    "### Build models"
   ]
  },
  {
   "cell_type": "code",
   "execution_count": 8,
   "metadata": {},
   "outputs": [],
   "source": [
    "models = build_models(args)"
   ]
  },
  {
   "cell_type": "code",
   "execution_count": 9,
   "metadata": {},
   "outputs": [
    {
     "data": {
      "text/plain": [
       "FFNMnist(\n",
       "  (network): Sequential(\n",
       "    (0): Linear(in_features=784, out_features=16, bias=True)\n",
       "    (1): ReLU()\n",
       "    (2): Linear(in_features=16, out_features=32, bias=True)\n",
       "    (3): ReLU()\n",
       "    (4): Linear(in_features=32, out_features=10, bias=True)\n",
       "  )\n",
       ")"
      ]
     },
     "execution_count": 9,
     "metadata": {},
     "output_type": "execute_result"
    }
   ],
   "source": [
    "# Model overview\n",
    "models[0]"
   ]
  },
  {
   "cell_type": "markdown",
   "metadata": {},
   "source": [
    "### Build the network graph "
   ]
  },
  {
   "cell_type": "code",
   "execution_count": 10,
   "metadata": {},
   "outputs": [],
   "source": [
    "# setup the network topology\n",
    "topology = random_graph(models, cluster_enabled=False, k=2, sigma=-2)"
   ]
  },
  {
   "cell_type": "code",
   "execution_count": 11,
   "metadata": {},
   "outputs": [],
   "source": [
    "# build the network graph\n",
    "graph = network_graph(topology, models, train_ds, test_ds, user_groups, args)"
   ]
  },
  {
   "cell_type": "markdown",
   "metadata": {},
   "source": [
    "### Perform local training "
   ]
  },
  {
   "cell_type": "code",
   "execution_count": 12,
   "metadata": {
    "scrolled": true
   },
   "outputs": [
    {
     "name": "stdout",
     "output_type": "stream",
     "text": [
      "\u001b[7m\u001b[36m Event:   \u001b[0m \u001b[36mStarting local training ...\u001b[0m\n",
      "\u001b[7m\u001b[30m Info:    \u001b[0m \u001b[30mNode(0) is performing local training ...\u001b[0m\n",
      "\u001b[30m          \u001b[0m \u001b[30mEpoch [0], val_loss: 1.6586, val_acc: 0.5650\u001b[0m\n",
      "\u001b[30m          \u001b[0m \u001b[30mEpoch [1], val_loss: 0.9555, val_acc: 0.7500\u001b[0m\n",
      "\u001b[30m          \u001b[0m \u001b[30mEpoch [2], val_loss: 0.5911, val_acc: 0.8267\u001b[0m\n",
      "\u001b[30m          \u001b[0m \u001b[30mEpoch [3], val_loss: 0.4619, val_acc: 0.8633\u001b[0m\n",
      "\u001b[30m          \u001b[0m \u001b[30mEpoch [4], val_loss: 0.3815, val_acc: 0.8917\u001b[0m\n",
      "\u001b[30m          \u001b[0m \u001b[30mEpoch [5], val_loss: 0.3531, val_acc: 0.8983\u001b[0m\n",
      "\u001b[30m          \u001b[0m \u001b[30mEpoch [6], val_loss: 0.3395, val_acc: 0.8950\u001b[0m\n",
      "\u001b[30m          \u001b[0m \u001b[30mEpoch [7], val_loss: 0.3268, val_acc: 0.9017\u001b[0m\n",
      "\u001b[30m          \u001b[0m \u001b[30mEpoch [8], val_loss: 0.3131, val_acc: 0.9067\u001b[0m\n",
      "\u001b[30m          \u001b[0m \u001b[30mEpoch [9], val_loss: 0.2987, val_acc: 0.9050\u001b[0m\n",
      "\u001b[7m\u001b[30m Info:    \u001b[0m \u001b[30mNode(1) is performing local training ...\u001b[0m\n",
      "\u001b[30m          \u001b[0m \u001b[30mEpoch [0], val_loss: 1.6458, val_acc: 0.5833\u001b[0m\n",
      "\u001b[30m          \u001b[0m \u001b[30mEpoch [1], val_loss: 1.0544, val_acc: 0.7350\u001b[0m\n",
      "\u001b[30m          \u001b[0m \u001b[30mEpoch [2], val_loss: 0.7168, val_acc: 0.8150\u001b[0m\n",
      "\u001b[30m          \u001b[0m \u001b[30mEpoch [3], val_loss: 0.5434, val_acc: 0.8550\u001b[0m\n",
      "\u001b[30m          \u001b[0m \u001b[30mEpoch [4], val_loss: 0.4388, val_acc: 0.8767\u001b[0m\n",
      "\u001b[30m          \u001b[0m \u001b[30mEpoch [5], val_loss: 0.3795, val_acc: 0.8933\u001b[0m\n",
      "\u001b[30m          \u001b[0m \u001b[30mEpoch [6], val_loss: 0.3430, val_acc: 0.9000\u001b[0m\n",
      "\u001b[30m          \u001b[0m \u001b[30mEpoch [7], val_loss: 0.3223, val_acc: 0.9050\u001b[0m\n",
      "\u001b[30m          \u001b[0m \u001b[30mEpoch [8], val_loss: 0.3107, val_acc: 0.9083\u001b[0m\n",
      "\u001b[30m          \u001b[0m \u001b[30mEpoch [9], val_loss: 0.2880, val_acc: 0.9133\u001b[0m\n",
      "\u001b[7m\u001b[30m Info:    \u001b[0m \u001b[30mNode(2) is performing local training ...\u001b[0m\n",
      "\u001b[30m          \u001b[0m \u001b[30mEpoch [0], val_loss: 1.8334, val_acc: 0.4283\u001b[0m\n",
      "\u001b[30m          \u001b[0m \u001b[30mEpoch [1], val_loss: 1.0898, val_acc: 0.7550\u001b[0m\n",
      "\u001b[30m          \u001b[0m \u001b[30mEpoch [2], val_loss: 0.6564, val_acc: 0.8200\u001b[0m\n",
      "\u001b[30m          \u001b[0m \u001b[30mEpoch [3], val_loss: 0.4949, val_acc: 0.8517\u001b[0m\n",
      "\u001b[30m          \u001b[0m \u001b[30mEpoch [4], val_loss: 0.4112, val_acc: 0.8767\u001b[0m\n",
      "\u001b[30m          \u001b[0m \u001b[30mEpoch [5], val_loss: 0.3709, val_acc: 0.8833\u001b[0m\n",
      "\u001b[30m          \u001b[0m \u001b[30mEpoch [6], val_loss: 0.3413, val_acc: 0.8950\u001b[0m\n",
      "\u001b[30m          \u001b[0m \u001b[30mEpoch [7], val_loss: 0.3173, val_acc: 0.8983\u001b[0m\n",
      "\u001b[30m          \u001b[0m \u001b[30mEpoch [8], val_loss: 0.3120, val_acc: 0.9033\u001b[0m\n",
      "\u001b[30m          \u001b[0m \u001b[30mEpoch [9], val_loss: 0.3016, val_acc: 0.9067\u001b[0m\n",
      "\u001b[7m\u001b[30m Info:    \u001b[0m \u001b[30mNode(3) is performing local training ...\u001b[0m\n",
      "\u001b[30m          \u001b[0m \u001b[30mEpoch [0], val_loss: 1.9191, val_acc: 0.3917\u001b[0m\n",
      "\u001b[30m          \u001b[0m \u001b[30mEpoch [1], val_loss: 1.2566, val_acc: 0.6317\u001b[0m\n",
      "\u001b[30m          \u001b[0m \u001b[30mEpoch [2], val_loss: 0.7791, val_acc: 0.8067\u001b[0m\n",
      "\u001b[30m          \u001b[0m \u001b[30mEpoch [3], val_loss: 0.5708, val_acc: 0.8550\u001b[0m\n",
      "\u001b[30m          \u001b[0m \u001b[30mEpoch [4], val_loss: 0.4684, val_acc: 0.8700\u001b[0m\n",
      "\u001b[30m          \u001b[0m \u001b[30mEpoch [5], val_loss: 0.4058, val_acc: 0.8800\u001b[0m\n",
      "\u001b[30m          \u001b[0m \u001b[30mEpoch [6], val_loss: 0.3753, val_acc: 0.8917\u001b[0m\n",
      "\u001b[30m          \u001b[0m \u001b[30mEpoch [7], val_loss: 0.3536, val_acc: 0.8933\u001b[0m\n",
      "\u001b[30m          \u001b[0m \u001b[30mEpoch [8], val_loss: 0.3403, val_acc: 0.9017\u001b[0m\n",
      "\u001b[30m          \u001b[0m \u001b[30mEpoch [9], val_loss: 0.3322, val_acc: 0.9067\u001b[0m\n",
      "\u001b[7m\u001b[30m Info:    \u001b[0m \u001b[30mNode(4) is performing local training ...\u001b[0m\n",
      "\u001b[30m          \u001b[0m \u001b[30mEpoch [0], val_loss: 1.6935, val_acc: 0.4983\u001b[0m\n",
      "\u001b[30m          \u001b[0m \u001b[30mEpoch [1], val_loss: 1.1175, val_acc: 0.6833\u001b[0m\n",
      "\u001b[30m          \u001b[0m \u001b[30mEpoch [2], val_loss: 0.7007, val_acc: 0.8067\u001b[0m\n",
      "\u001b[30m          \u001b[0m \u001b[30mEpoch [3], val_loss: 0.5098, val_acc: 0.8517\u001b[0m\n",
      "\u001b[30m          \u001b[0m \u001b[30mEpoch [4], val_loss: 0.4346, val_acc: 0.8633\u001b[0m\n",
      "\u001b[30m          \u001b[0m \u001b[30mEpoch [5], val_loss: 0.3950, val_acc: 0.8817\u001b[0m\n",
      "\u001b[30m          \u001b[0m \u001b[30mEpoch [6], val_loss: 0.3691, val_acc: 0.8933\u001b[0m\n",
      "\u001b[30m          \u001b[0m \u001b[30mEpoch [7], val_loss: 0.3434, val_acc: 0.8867\u001b[0m\n",
      "\u001b[30m          \u001b[0m \u001b[30mEpoch [8], val_loss: 0.3218, val_acc: 0.9033\u001b[0m\n",
      "\u001b[30m          \u001b[0m \u001b[30mEpoch [9], val_loss: 0.3166, val_acc: 0.9017\u001b[0m\n",
      "\u001b[7m\u001b[30m Info:    \u001b[0m \u001b[30mNode(5) is performing local training ...\u001b[0m\n",
      "\u001b[30m          \u001b[0m \u001b[30mEpoch [0], val_loss: 1.6843, val_acc: 0.6050\u001b[0m\n",
      "\u001b[30m          \u001b[0m \u001b[30mEpoch [1], val_loss: 1.0558, val_acc: 0.7517\u001b[0m\n",
      "\u001b[30m          \u001b[0m \u001b[30mEpoch [2], val_loss: 0.7358, val_acc: 0.8083\u001b[0m\n",
      "\u001b[30m          \u001b[0m \u001b[30mEpoch [3], val_loss: 0.5916, val_acc: 0.8633\u001b[0m\n",
      "\u001b[30m          \u001b[0m \u001b[30mEpoch [4], val_loss: 0.5001, val_acc: 0.8783\u001b[0m\n",
      "\u001b[30m          \u001b[0m \u001b[30mEpoch [5], val_loss: 0.4461, val_acc: 0.8867\u001b[0m\n",
      "\u001b[30m          \u001b[0m \u001b[30mEpoch [6], val_loss: 0.3985, val_acc: 0.8983\u001b[0m\n",
      "\u001b[30m          \u001b[0m \u001b[30mEpoch [7], val_loss: 0.3666, val_acc: 0.8950\u001b[0m\n",
      "\u001b[30m          \u001b[0m \u001b[30mEpoch [8], val_loss: 0.3461, val_acc: 0.9017\u001b[0m\n",
      "\u001b[30m          \u001b[0m \u001b[30mEpoch [9], val_loss: 0.3323, val_acc: 0.9017\u001b[0m\n",
      "\u001b[7m\u001b[30m Info:    \u001b[0m \u001b[30mNode(6) is performing local training ...\u001b[0m\n",
      "\u001b[30m          \u001b[0m \u001b[30mEpoch [0], val_loss: 1.7231, val_acc: 0.5783\u001b[0m\n",
      "\u001b[30m          \u001b[0m \u001b[30mEpoch [1], val_loss: 1.0178, val_acc: 0.7833\u001b[0m\n",
      "\u001b[30m          \u001b[0m \u001b[30mEpoch [2], val_loss: 0.6169, val_acc: 0.8367\u001b[0m\n",
      "\u001b[30m          \u001b[0m \u001b[30mEpoch [3], val_loss: 0.4575, val_acc: 0.8783\u001b[0m\n",
      "\u001b[30m          \u001b[0m \u001b[30mEpoch [4], val_loss: 0.3848, val_acc: 0.8900\u001b[0m\n",
      "\u001b[30m          \u001b[0m \u001b[30mEpoch [5], val_loss: 0.3481, val_acc: 0.9033\u001b[0m\n",
      "\u001b[30m          \u001b[0m \u001b[30mEpoch [6], val_loss: 0.3242, val_acc: 0.9117\u001b[0m\n",
      "\u001b[30m          \u001b[0m \u001b[30mEpoch [7], val_loss: 0.3081, val_acc: 0.9067\u001b[0m\n",
      "\u001b[30m          \u001b[0m \u001b[30mEpoch [8], val_loss: 0.3104, val_acc: 0.9150\u001b[0m\n",
      "\u001b[30m          \u001b[0m \u001b[30mEpoch [9], val_loss: 0.2843, val_acc: 0.9200\u001b[0m\n",
      "\u001b[7m\u001b[30m Info:    \u001b[0m \u001b[30mNode(7) is performing local training ...\u001b[0m\n",
      "\u001b[30m          \u001b[0m \u001b[30mEpoch [0], val_loss: 1.7936, val_acc: 0.6000\u001b[0m\n",
      "\u001b[30m          \u001b[0m \u001b[30mEpoch [1], val_loss: 1.1305, val_acc: 0.7533\u001b[0m\n",
      "\u001b[30m          \u001b[0m \u001b[30mEpoch [2], val_loss: 0.6729, val_acc: 0.8317\u001b[0m\n",
      "\u001b[30m          \u001b[0m \u001b[30mEpoch [3], val_loss: 0.4994, val_acc: 0.8517\u001b[0m\n",
      "\u001b[30m          \u001b[0m \u001b[30mEpoch [4], val_loss: 0.4341, val_acc: 0.8617\u001b[0m\n",
      "\u001b[30m          \u001b[0m \u001b[30mEpoch [5], val_loss: 0.3851, val_acc: 0.8800\u001b[0m\n",
      "\u001b[30m          \u001b[0m \u001b[30mEpoch [6], val_loss: 0.3515, val_acc: 0.9083\u001b[0m\n",
      "\u001b[30m          \u001b[0m \u001b[30mEpoch [7], val_loss: 0.3533, val_acc: 0.8983\u001b[0m\n",
      "\u001b[30m          \u001b[0m \u001b[30mEpoch [8], val_loss: 0.3179, val_acc: 0.9117\u001b[0m\n",
      "\u001b[30m          \u001b[0m \u001b[30mEpoch [9], val_loss: 0.3075, val_acc: 0.9100\u001b[0m\n",
      "\u001b[7m\u001b[30m Info:    \u001b[0m \u001b[30mNode(8) is performing local training ...\u001b[0m\n",
      "\u001b[30m          \u001b[0m \u001b[30mEpoch [0], val_loss: 1.7064, val_acc: 0.5483\u001b[0m\n",
      "\u001b[30m          \u001b[0m \u001b[30mEpoch [1], val_loss: 1.0807, val_acc: 0.7700\u001b[0m\n",
      "\u001b[30m          \u001b[0m \u001b[30mEpoch [2], val_loss: 0.6827, val_acc: 0.8233\u001b[0m\n",
      "\u001b[30m          \u001b[0m \u001b[30mEpoch [3], val_loss: 0.5181, val_acc: 0.8567\u001b[0m\n",
      "\u001b[30m          \u001b[0m \u001b[30mEpoch [4], val_loss: 0.4305, val_acc: 0.8883\u001b[0m\n",
      "\u001b[30m          \u001b[0m \u001b[30mEpoch [5], val_loss: 0.3846, val_acc: 0.8917\u001b[0m\n",
      "\u001b[30m          \u001b[0m \u001b[30mEpoch [6], val_loss: 0.3567, val_acc: 0.9017\u001b[0m\n",
      "\u001b[30m          \u001b[0m \u001b[30mEpoch [7], val_loss: 0.3422, val_acc: 0.9033\u001b[0m\n",
      "\u001b[30m          \u001b[0m \u001b[30mEpoch [8], val_loss: 0.3297, val_acc: 0.9050\u001b[0m\n",
      "\u001b[30m          \u001b[0m \u001b[30mEpoch [9], val_loss: 0.3196, val_acc: 0.9017\u001b[0m\n",
      "\u001b[7m\u001b[30m Info:    \u001b[0m \u001b[30mNode(9) is performing local training ...\u001b[0m\n",
      "\u001b[30m          \u001b[0m \u001b[30mEpoch [0], val_loss: 1.8263, val_acc: 0.4767\u001b[0m\n",
      "\u001b[30m          \u001b[0m \u001b[30mEpoch [1], val_loss: 1.0906, val_acc: 0.7467\u001b[0m\n",
      "\u001b[30m          \u001b[0m \u001b[30mEpoch [2], val_loss: 0.6548, val_acc: 0.8550\u001b[0m\n",
      "\u001b[30m          \u001b[0m \u001b[30mEpoch [3], val_loss: 0.5189, val_acc: 0.8567\u001b[0m\n",
      "\u001b[30m          \u001b[0m \u001b[30mEpoch [4], val_loss: 0.4427, val_acc: 0.8800\u001b[0m\n",
      "\u001b[30m          \u001b[0m \u001b[30mEpoch [5], val_loss: 0.4071, val_acc: 0.8967\u001b[0m\n",
      "\u001b[30m          \u001b[0m \u001b[30mEpoch [6], val_loss: 0.3930, val_acc: 0.8950\u001b[0m\n",
      "\u001b[30m          \u001b[0m \u001b[30mEpoch [7], val_loss: 0.3688, val_acc: 0.8983\u001b[0m\n",
      "\u001b[30m          \u001b[0m \u001b[30mEpoch [8], val_loss: 0.3645, val_acc: 0.8983\u001b[0m\n",
      "\u001b[30m          \u001b[0m \u001b[30mEpoch [9], val_loss: 0.3636, val_acc: 0.9033\u001b[0m\n",
      "\u001b[7m\u001b[32m Success: \u001b[0m \u001b[32mLocal training finished in 52.24 seconds.\u001b[0m\n"
     ]
    }
   ],
   "source": [
    "train_logs = graph.local_training()"
   ]
  },
  {
   "cell_type": "code",
   "execution_count": 13,
   "metadata": {},
   "outputs": [
    {
     "data": {
      "image/png": "[encoded data removed]",
      "text/plain": [
       "<Figure size 432x288 with 1 Axes>"
      ]
     },
     "metadata": {
      "image/png": {
       "height": 277,
       "width": 392
      },
      "needs_background": "light"
     },
     "output_type": "display_data"
    },
    {
     "data": {
      "image/png": "[encoded data removed]",
      "text/plain": [
       "<Figure size 432x288 with 1 Axes>"
      ]
     },
     "metadata": {
      "image/png": {
       "height": 277,
       "width": 385
      },
      "needs_background": "light"
     },
     "output_type": "display_data"
    }
   ],
   "source": [
    "# plot the history of local training phase\n",
    "plot_train_history(train_logs, metric='accuracy', measure=\"mean\")\n",
    "plot_train_history(train_logs, metric='loss', measure=\"mean\")"
   ]
  },
  {
   "cell_type": "markdown",
   "metadata": {},
   "source": [
    "### Collaborative learniing using averaging"
   ]
  },
  {
   "cell_type": "code",
   "execution_count": 14,
   "metadata": {},
   "outputs": [
    {
     "name": "stderr",
     "output_type": "stream",
     "text": [
      "\r",
      "  0%|          | 0/100 [00:00<?, ?it/s]"
     ]
    },
    {
     "name": "stdout",
     "output_type": "stream",
     "text": [
      "\u001b[7m\u001b[36m Event:   \u001b[0m \u001b[36mStarting collaborative training using Average-based Collaborative Learner ...\u001b[0m\n",
      "\u001b[7m\u001b[30m Info:    \u001b[0m \u001b[30mCollaborative training for 100 rounds\u001b[0m\n"
     ]
    },
    {
     "name": "stderr",
     "output_type": "stream",
     "text": [
      "100%|██████████| 100/100 [00:14<00:00,  7.03it/s, peer=Node(1), val_loss=3.34e+4, val_acc=0.105]"
     ]
    },
    {
     "name": "stdout",
     "output_type": "stream",
     "text": [
      "\u001b[7m\u001b[32m Success: \u001b[0m \u001b[32mCollaborative training finished in 14.22 seconds.\u001b[0m\n"
     ]
    },
    {
     "name": "stderr",
     "output_type": "stream",
     "text": [
      "\n"
     ]
    }
   ],
   "source": [
    "from src.learners import average\n",
    "\n",
    "collab_logs = graph.collaborative_training(learner=average)"
   ]
  },
  {
   "cell_type": "code",
   "execution_count": null,
   "metadata": {},
   "outputs": [],
   "source": [
    "# plot the history of collaborative training phase\n"
   ]
  },
  {
   "cell_type": "markdown",
   "metadata": {},
   "source": [
    "### Collaborative learniing using averaging"
   ]
  },
  {
   "cell_type": "code",
   "execution_count": null,
   "metadata": {},
   "outputs": [],
   "source": [
    "from src.learners import model_propagation\n",
    "\n",
    "collab_logs = graph.collaborative_training(learner=model_propagation)"
   ]
  },
  {
   "cell_type": "code",
   "execution_count": null,
   "metadata": {},
   "outputs": [],
   "source": []
  },
  {
   "cell_type": "code",
   "execution_count": null,
   "metadata": {},
   "outputs": [],
   "source": []
  },
  {
   "cell_type": "code",
   "execution_count": null,
   "metadata": {},
   "outputs": [],
   "source": []
  },
  {
   "cell_type": "code",
   "execution_count": null,
   "metadata": {},
   "outputs": [],
   "source": []
  }
 ],
 "metadata": {
  "kernelspec": {
   "display_name": "FLenv",
   "language": "python",
   "name": "flenv"
  },
  "language_info": {
   "codemirror_mode": {
    "name": "ipython",
    "version": 3
   },
   "file_extension": ".py",
   "mimetype": "text/x-python",
   "name": "python",
   "nbconvert_exporter": "python",
   "pygments_lexer": "ipython3",
   "version": "3.7.7"
  }
 },
 "nbformat": 4,
 "nbformat_minor": 2
}
